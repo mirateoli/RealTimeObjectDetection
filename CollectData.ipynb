{
 "cells": [
  {
   "cell_type": "code",
   "execution_count": 12,
   "metadata": {},
   "outputs": [],
   "source": [
    "import cv2\n",
    "import os\n",
    "import time\n",
    "import uuid"
   ]
  },
  {
   "cell_type": "code",
   "execution_count": 13,
   "metadata": {},
   "outputs": [],
   "source": [
    "# create path to store collected images\n",
    "IMAGES_PATH = 'Tensorflow\\\\workspace\\\\images\\\\collectedimages'"
   ]
  },
  {
   "cell_type": "code",
   "execution_count": 14,
   "metadata": {},
   "outputs": [],
   "source": [
    "# label names to group images\n",
    "labels = ['stop','go']\n",
    "# number of images per label to take\n",
    "number_imgs = 15"
   ]
  },
  {
   "cell_type": "code",
   "execution_count": 18,
   "metadata": {},
   "outputs": [
    {
     "name": "stdout",
     "output_type": "stream",
     "text": [
      "Collecting images for stop\n",
      "Tensorflow\\workspace\\images\\collectedimages\\stop\\stop_20fc25b8-ebbb-11ee-a6ca-d8bbc1d14bc6.jpg\n",
      "Tensorflow\\workspace\\images\\collectedimages\\stop\\stop_2230a92f-ebbb-11ee-8d96-d8bbc1d14bc6.jpg\n",
      "Tensorflow\\workspace\\images\\collectedimages\\stop\\stop_236828ec-ebbb-11ee-8db3-d8bbc1d14bc6.jpg\n",
      "Tensorflow\\workspace\\images\\collectedimages\\stop\\stop_249fc8c2-ebbb-11ee-a2e5-d8bbc1d14bc6.jpg\n",
      "Tensorflow\\workspace\\images\\collectedimages\\stop\\stop_25d66d87-ebbb-11ee-a3df-d8bbc1d14bc6.jpg\n",
      "Tensorflow\\workspace\\images\\collectedimages\\stop\\stop_270a754c-ebbb-11ee-a269-d8bbc1d14bc6.jpg\n",
      "Tensorflow\\workspace\\images\\collectedimages\\stop\\stop_28427927-ebbb-11ee-873e-d8bbc1d14bc6.jpg\n",
      "Tensorflow\\workspace\\images\\collectedimages\\stop\\stop_2977cd0e-ebbb-11ee-b469-d8bbc1d14bc6.jpg\n",
      "Tensorflow\\workspace\\images\\collectedimages\\stop\\stop_2aad45d0-ebbb-11ee-b02e-d8bbc1d14bc6.jpg\n",
      "Tensorflow\\workspace\\images\\collectedimages\\stop\\stop_2be32272-ebbb-11ee-ab59-d8bbc1d14bc6.jpg\n",
      "Tensorflow\\workspace\\images\\collectedimages\\stop\\stop_2d18294c-ebbb-11ee-9ff1-d8bbc1d14bc6.jpg\n",
      "Tensorflow\\workspace\\images\\collectedimages\\stop\\stop_2e4fb0c3-ebbb-11ee-860c-d8bbc1d14bc6.jpg\n",
      "Tensorflow\\workspace\\images\\collectedimages\\stop\\stop_2f87602c-ebbb-11ee-96ab-d8bbc1d14bc6.jpg\n",
      "Tensorflow\\workspace\\images\\collectedimages\\stop\\stop_30bcf382-ebbb-11ee-a7e3-d8bbc1d14bc6.jpg\n",
      "Tensorflow\\workspace\\images\\collectedimages\\stop\\stop_31f2c521-ebbb-11ee-a31f-d8bbc1d14bc6.jpg\n",
      "Collecting images for go\n",
      "Tensorflow\\workspace\\images\\collectedimages\\go\\go_36272e27-ebbb-11ee-b915-d8bbc1d14bc6.jpg\n",
      "Tensorflow\\workspace\\images\\collectedimages\\go\\go_375cc52b-ebbb-11ee-8ccb-d8bbc1d14bc6.jpg\n",
      "Tensorflow\\workspace\\images\\collectedimages\\go\\go_3894793f-ebbb-11ee-b0a9-d8bbc1d14bc6.jpg\n",
      "Tensorflow\\workspace\\images\\collectedimages\\go\\go_39c9e61a-ebbb-11ee-84c7-d8bbc1d14bc6.jpg\n",
      "Tensorflow\\workspace\\images\\collectedimages\\go\\go_3aff5cfc-ebbb-11ee-833e-d8bbc1d14bc6.jpg\n",
      "Tensorflow\\workspace\\images\\collectedimages\\go\\go_3c371a13-ebbb-11ee-a1b2-d8bbc1d14bc6.jpg\n",
      "Tensorflow\\workspace\\images\\collectedimages\\go\\go_3d6e9308-ebbb-11ee-9904-d8bbc1d14bc6.jpg\n",
      "Tensorflow\\workspace\\images\\collectedimages\\go\\go_3ea44323-ebbb-11ee-b367-d8bbc1d14bc6.jpg\n",
      "Tensorflow\\workspace\\images\\collectedimages\\go\\go_3fdbdc30-ebbb-11ee-b2e2-d8bbc1d14bc6.jpg\n",
      "Tensorflow\\workspace\\images\\collectedimages\\go\\go_41132274-ebbb-11ee-a5e1-d8bbc1d14bc6.jpg\n",
      "Tensorflow\\workspace\\images\\collectedimages\\go\\go_4248a5a6-ebbb-11ee-8684-d8bbc1d14bc6.jpg\n",
      "Tensorflow\\workspace\\images\\collectedimages\\go\\go_437df5c9-ebbb-11ee-89b3-d8bbc1d14bc6.jpg\n",
      "Tensorflow\\workspace\\images\\collectedimages\\go\\go_44b590ca-ebbb-11ee-af74-d8bbc1d14bc6.jpg\n",
      "Tensorflow\\workspace\\images\\collectedimages\\go\\go_45ed553f-ebbb-11ee-8b7e-d8bbc1d14bc6.jpg\n",
      "Tensorflow\\workspace\\images\\collectedimages\\go\\go_47231497-ebbb-11ee-89d5-d8bbc1d14bc6.jpg\n"
     ]
    }
   ],
   "source": [
    "# Create directories for each label\n",
    "for label in labels:\n",
    "    os.makedirs(os.path.join(IMAGES_PATH, label), exist_ok=True)\n",
    "\n",
    "# Create video capture object\n",
    "cap = cv2.VideoCapture(0)\n",
    "\n",
    "# Loop through each label\n",
    "for label in labels:\n",
    "    print('Collecting images for {}'.format(label))\n",
    "    time.sleep(5)  # Delay to get ready to capture\n",
    "    for imgnum in range(number_imgs):\n",
    "        ret, frame = cap.read()\n",
    "        imgname = os.path.join(IMAGES_PATH, label, label + '_' + str(uuid.uuid1()) + '.jpg')\n",
    "        print(imgname)\n",
    "        cv2.imwrite(imgname, frame)\n",
    "        cv2.imshow('frame', frame)\n",
    "        time.sleep(2)\n",
    "\n",
    "        if cv2.waitKey(1) & 0xFF == ord('q'):\n",
    "            break\n",
    "\n",
    "# Release video capture object\n",
    "cap.release()\n",
    "cv2.destroyAllWindows()"
   ]
  }
 ],
 "metadata": {
  "kernelspec": {
   "display_name": "Python 3",
   "language": "python",
   "name": "python3"
  },
  "language_info": {
   "codemirror_mode": {
    "name": "ipython",
    "version": 3
   },
   "file_extension": ".py",
   "mimetype": "text/x-python",
   "name": "python",
   "nbconvert_exporter": "python",
   "pygments_lexer": "ipython3",
   "version": "3.10.11"
  }
 },
 "nbformat": 4,
 "nbformat_minor": 2
}
